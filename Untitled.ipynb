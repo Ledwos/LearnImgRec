{
 "cells": [
  {
   "cell_type": "markdown",
   "metadata": {},
   "source": [
    "## LET US LEARN!!"
   ]
  },
  {
   "cell_type": "code",
   "execution_count": 1,
   "metadata": {},
   "outputs": [],
   "source": [
    "# importing the necessary libraries\n",
    "\n",
    "from PIL import Image\n",
    "import numpy as np"
   ]
  },
  {
   "cell_type": "code",
   "execution_count": 2,
   "metadata": {},
   "outputs": [
    {
     "data": {
      "text/plain": [
       "<matplotlib.image.AxesImage at 0x1404a8f5be0>"
      ]
     },
     "execution_count": 2,
     "metadata": {},
     "output_type": "execute_result"
    },
    {
     "data": {
      "image/png": "[encoded data removed]",
      "text/plain": [
       "<Figure size 432x288 with 1 Axes>"
      ]
     },
     "metadata": {
      "needs_background": "light"
     },
     "output_type": "display_data"
    }
   ],
   "source": [
    "i = Image.open('images/numbers/y0.5.png')\n",
    "iar = np.asarray(i)\n",
    "# print(iar)\n",
    "\n",
    "#image is an 8x8 pixel hence 8 arrays (rows) consisting of 8 arrays (RGB-A pixel values)\n",
    "\n",
    "#Visualising array\n",
    "\n",
    "import matplotlib.pyplot as plt\n",
    "\n",
    "%matplotlib inline\n",
    "\n",
    "plt.imshow(iar)"
   ]
  },
  {
   "cell_type": "markdown",
   "metadata": {},
   "source": [
    "### Thresholding\n",
    "\n",
    "The aim is to simplify the image (i.e. make it monochrome) in order to make comparing each individual pixel array more simple"
   ]
  },
  {
   "cell_type": "code",
   "execution_count": 3,
   "metadata": {},
   "outputs": [],
   "source": [
    "def threshold(imageArray):\n",
    "    balanceAr = []\n",
    "    newAr = imageArray\n",
    "    from statistics import mean\n",
    "    for eachRow in imageArray:\n",
    "        for eachPix in eachRow:\n",
    "            avgNum = mean(eachPix[:3])\n",
    "            balanceAr.append(avgNum)\n",
    "            \n",
    "    balance = mean(balanceAr)\n",
    "    for eachRow in newAr:\n",
    "        for eachPix in eachRow:\n",
    "            if mean(eachPix[:3]) > balance:\n",
    "                eachPix[0] = 255\n",
    "                eachPix[1] = 255\n",
    "                eachPix[2] = 255\n",
    "                eachPix[3] = 255\n",
    "            else:\n",
    "                eachPix[0] = 0\n",
    "                eachPix[1] = 0\n",
    "                eachPix[2] = 0\n",
    "                eachPix[3] = 255\n",
    "    return newAr"
   ]
  },
  {
   "cell_type": "code",
   "execution_count": 4,
   "metadata": {},
   "outputs": [
    {
     "data": {
      "image/png": "[encoded data removed]",
      "text/plain": [
       "<Figure size 432x288 with 4 Axes>"
      ]
     },
     "metadata": {
      "needs_background": "light"
     },
     "output_type": "display_data"
    }
   ],
   "source": [
    "# Plotting variety of images\n",
    "i1 = Image.open('images/numbers/0.1.png')\n",
    "iar1 = np.array(i1)\n",
    "i2 = Image.open('images/numbers/y0.4.png')\n",
    "iar2 = np.array(i2)\n",
    "i3 = Image.open('images/numbers/y0.5.png')\n",
    "iar3 = np.array(i3)\n",
    "i4 = Image.open('images/sentdex.png')\n",
    "iar4 = np.array(i4)\n",
    "\n",
    "fig = plt.figure()\n",
    "ax1 = plt.subplot2grid((8,6),(0,0), rowspan=4, colspan=3)\n",
    "ax2 = plt.subplot2grid((8,6),(4,0), rowspan=4, colspan=3)\n",
    "ax3 = plt.subplot2grid((8,6),(0,3), rowspan=4, colspan=3)\n",
    "ax4 = plt.subplot2grid((8,6),(4,3), rowspan=4, colspan=3)\n",
    "\n",
    "ax1.imshow(iar1)\n",
    "ax2.imshow(iar2)\n",
    "ax3.imshow(iar3)\n",
    "ax4.imshow(iar4)\n",
    "\n",
    "plt.show()\n"
   ]
  },
  {
   "cell_type": "code",
   "execution_count": 5,
   "metadata": {},
   "outputs": [
    {
     "data": {
      "image/png": "[encoded data removed]",
      "text/plain": [
       "<Figure size 432x288 with 4 Axes>"
      ]
     },
     "metadata": {
      "needs_background": "light"
     },
     "output_type": "display_data"
    }
   ],
   "source": [
    "# Plotting images post-thresholding\n",
    "\n",
    "i1 = Image.open('images/numbers/0.1.png')\n",
    "iar1 = np.array(i1)\n",
    "i2 = Image.open('images/numbers/y0.4.png')\n",
    "iar2 = np.array(i2)\n",
    "i3 = Image.open('images/numbers/y0.5.png')\n",
    "iar3 = np.array(i3)\n",
    "i4 = Image.open('images/sentdex.png')\n",
    "iar4 = np.array(i4)\n",
    "\n",
    "iar1 = threshold(iar1)\n",
    "iar2 = threshold(iar2)\n",
    "iar3 = threshold(iar3)\n",
    "iar4 = threshold(iar4)\n",
    "\n",
    "fig = plt.figure()\n",
    "ax1 = plt.subplot2grid((8,6),(0,0), rowspan=4, colspan=3)\n",
    "ax2 = plt.subplot2grid((8,6),(4,0), rowspan=4, colspan=3)\n",
    "ax3 = plt.subplot2grid((8,6),(0,3), rowspan=4, colspan=3)\n",
    "ax4 = plt.subplot2grid((8,6),(4,3), rowspan=4, colspan=3)\n",
    "\n",
    "ax1.imshow(iar1)\n",
    "ax2.imshow(iar2)\n",
    "ax3.imshow(iar3)\n",
    "ax4.imshow(iar4)\n",
    "\n",
    "plt.show()\n"
   ]
  },
  {
   "cell_type": "code",
   "execution_count": 6,
   "metadata": {},
   "outputs": [],
   "source": [
    "# save image arrays to file\n",
    "def createExamples():\n",
    "    numberArrayExamples = open('numArEx.txt','a')\n",
    "    numbersWeHave = range(1,10)\n",
    "    for eachNum in numbersWeHave:\n",
    "        for furtherNum in numbersWeHave:\n",
    "            print(str(eachNum)+'.'+str(furtherNum))\n",
    "            imgFilePath = 'images/numbers/'+str(eachNum)+'.'+str(furtherNum)+'.png'\n",
    "            ei = Image.open(imgFilePath)\n",
    "            eiar = np.array(ei)\n",
    "            eiarl = str(eiar.tolist())\n",
    "\n",
    "            print(eiarl)\n",
    "            lineToWrite = str(eachNum)+'::'+eiarl+'\\n'\n",
    "            numberArrayExamples.write(lineToWrite)"
   ]
  },
  {
   "cell_type": "code",
   "execution_count": null,
   "metadata": {},
   "outputs": [],
   "source": [
    "createExamples()"
   ]
  },
  {
   "cell_type": "code",
   "execution_count": 13,
   "metadata": {},
   "outputs": [
    {
     "name": "stdout",
     "output_type": "stream",
     "text": [
      "list index out of range\n",
      "Counter({1: 43})\n",
      "0\n"
     ]
    }
   ],
   "source": [
    "# Comparing images with our data file (numArEx.txt)\n",
    "\n",
    "from PIL import Image\n",
    "import numpy as np\n",
    "\n",
    "import time\n",
    "from collections import Counter\n",
    "# ^really cool useful tool!\n",
    "\n",
    "def whatNumIsThis(filePath):\n",
    "\n",
    "    matchedAr = []\n",
    "    loadExamps = open('numArEx.txt','r').read()\n",
    "    loadExamps = loadExamps.split('\\n')\n",
    "    \n",
    "    i = Image.open(filePath)\n",
    "    iar = np.array(i)\n",
    "    iarl = iar.tolist()\n",
    "\n",
    "    inQuestion = str(iarl)\n",
    "\n",
    "    for eachExample in loadExamps:\n",
    "        try:\n",
    "            splitEx = eachExample.split('::')\n",
    "            currentNum = splitEx[0]\n",
    "            currentAr = splitEx[1]\n",
    "            \n",
    "            eachPixEx = currentAr.split('],')\n",
    "            eachPixInQ = inQuestion.split('],')\n",
    "\n",
    "            x = 0\n",
    "\n",
    "            while x < len(eachPixEx):\n",
    "                if eachPixEx[x] == eachPixInQ[x]:\n",
    "                    matchedAr.append(int(currentNum))\n",
    "\n",
    "                x+=1\n",
    "        except Exception as e:\n",
    "            print(str(e))\n",
    "                \n",
    "    print(matchedAr)\n",
    "    x = Counter(matchedAr)\n",
    "    print(x)\n",
    "    print(x[0])\n",
    "\n",
    "whatNumIsThis('images/test.png')\n",
    "\n",
    "# list index out of range x_x"
   ]
  },
  {
   "cell_type": "code",
   "execution_count": null,
   "metadata": {},
   "outputs": [],
   "source": []
  }
 ],
 "metadata": {
  "kernelspec": {
   "display_name": "Python 3",
   "language": "python",
   "name": "python3"
  },
  "language_info": {
   "codemirror_mode": {
    "name": "ipython",
    "version": 3
   },
   "file_extension": ".py",
   "mimetype": "text/x-python",
   "name": "python",
   "nbconvert_exporter": "python",
   "pygments_lexer": "ipython3",
   "version": "3.7.0"
  }
 },
 "nbformat": 4,
 "nbformat_minor": 2
}
